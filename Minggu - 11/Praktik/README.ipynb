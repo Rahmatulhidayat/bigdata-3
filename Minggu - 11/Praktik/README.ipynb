{
 "cells": [
  {
   "cell_type": "markdown",
   "metadata": {},
   "source": [
    "# Clone Repo Pandas Cookbook\n",
    "\n",
    "Doto Baliga@Arumbay MINGW64 /c\n",
    "$ git clone https://github.com/PacktPublishing/Pandas-Cookbook.git\n",
    "Cloning into 'Pandas-Cookbook'...\n",
    "remote: Enumerating objects: 100, done.\n",
    "remote: Total 100 (delta 0), reused 0 (delta 0), pack-reused 100\n",
    "Receiving objects: 100% (100/100), 33.40 MiB | 460.00 KiB/s, done.\n",
    "Resolving deltas: 100% (19/19), done.\n",
    "Checking out files: 100% (70/70), done.\n"
   ]
  },
  {
   "cell_type": "markdown",
   "metadata": {},
   "source": [
    "# Copy notebook Jupyter untuk bab 3\n",
    "\n",
    "Copy -->> \"Chapter 03 Beginning Data Analysis.ipynb\" \n",
    "kemudian pindahkan ke direktori bigdata/minggu - 11/praktik\n",
    "\n",
    "jalankan notebook :\n",
    "\n",
    "(yakup_of_my_env) C:\\bigdata\\Minggu - 11\\Praktik>jupyter notebook\n",
    "[I 03:09:40.165 NotebookApp] JupyterLab extension loaded from C:\\Users\\Doto Baliga\\Miniconda3\\envs\\yakup_of_my_env\\lib\\site-packages\\jupyterlab\n",
    "[I 03:09:40.166 NotebookApp] JupyterLab application directory is C:\\Users\\Doto Baliga\\Miniconda3\\envs\\yakup_of_my_env\\share\\jupyter\\lab\n",
    "[I 03:09:40.180 NotebookApp] Serving notebooks from local directory: C:\\bigdata\\Minggu - 11\\Praktik\n",
    "[I 03:09:40.180 NotebookApp] The Jupyter Notebook is running at:\n",
    "[I 03:09:40.180 NotebookApp] http://localhost:8888/?token=39fc4b16c3c61236b7db7c51287eda20bb9273bfae734a29\n",
    "[I 03:09:40.181 NotebookApp] Use Control-C to stop this server and shut down all kernels (twice to skip confirmation).\n",
    "[C 03:09:40.336 NotebookApp]"
   ]
  },
  {
   "cell_type": "markdown",
   "metadata": {},
   "source": [
    "# Kerjakan berbagai source code : \n",
    "\n",
    "import pandas as pd\n",
    "import numpy as np\n",
    "from IPython.display import display\n",
    "pd.options.display.max_columns = 50"
   ]
  },
  {
   "cell_type": "markdown",
   "metadata": {},
   "source": []
  }
 ],
 "metadata": {
  "kernelspec": {
   "display_name": "Python 3",
   "language": "python",
   "name": "python3"
  },
  "language_info": {
   "codemirror_mode": {
    "name": "ipython",
    "version": 3
   },
   "file_extension": ".py",
   "mimetype": "text/x-python",
   "name": "python",
   "nbconvert_exporter": "python",
   "pygments_lexer": "ipython3",
   "version": "3.7.0"
  }
 },
 "nbformat": 4,
 "nbformat_minor": 2
}
